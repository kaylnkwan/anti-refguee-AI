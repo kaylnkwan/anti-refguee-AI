{
  "nbformat": 4,
  "nbformat_minor": 0,
  "metadata": {
    "colab": {
      "name": "Copy of StudentCopy_Anti_Refugee_Section2.ipynb",
      "provenance": [],
      "collapsed_sections": []
    },
    "kernelspec": {
      "name": "python3",
      "display_name": "Python 3"
    }
  },
  "cells": [
    {
      "cell_type": "markdown",
      "metadata": {
        "id": "3knkHZcWKp2k"
      },
      "source": [
        "# Project: Anti-Refugee Tweet Classification using Sentiment Analysis\n",
        "---\n",
        "### Goal: Predict whether a given tweet is Pro-Refugee or Anti-Refugee.\n",
        "---"
      ]
    },
    {
      "cell_type": "markdown",
      "metadata": {
        "id": "GYFUn48ZeX5C"
      },
      "source": [
        "## Introduction - A Model"
      ]
    },
    {
      "cell_type": "markdown",
      "metadata": {
        "id": "pHy-dPU0c7bD"
      },
      "source": [
        "Up until now, we have looked at how to extract tweets from twitter, tokenized it, and made a rule-based classifier. Today, we shall clean the data and train a binary classifier on Bag of Words vectors. We will also learn what Tf-idf weighting is, and train the classifier on a simple Neural Network and see if that is more accurate than the simple Logistic Regression model. \n",
        "\n",
        "Before we do all this, we must understand what the standard pipeline for an NLP model is like. "
      ]
    },
    {
      "cell_type": "markdown",
      "metadata": {
        "id": "HyDHWJg1eZdG"
      },
      "source": [
        "What is a model? A model is something that we will use to make predictions from our data. It gains a numerical understanding of the data such that given a new data point it has never seen before, it can figure out how it links to the previous data. We can choose to specify the *functional form* of the model beforehand, if we have some understanding of how our data looks (for example, using linear regression to predict a continuous value and logistic regression to predict binary values). \n",
        "\n",
        "Yesterday, we created rule-based classifiers based on the nature of the specific problem at hand (deciding whether or not a particular tweet expresses anti-refugee sentiment). Today, we will take a more general approach that allows us to classify text without needing to hard-code rules about the specific problem at hand.\n",
        "\n",
        "In many ways this will be similar to the Yelp Review Sentiment Analysis we did last week. Getting practice with creating these baseline models is extremely important because it is often the first step one takes when trying to solve a more difficult problem."
      ]
    },
    {
      "cell_type": "markdown",
      "metadata": {
        "id": "-2joDZttaR6l"
      },
      "source": [
        "## Imports\n",
        "\n",
        "Run the below cells to get started–this will take a minute or so."
      ]
    },
    {
      "cell_type": "code",
      "metadata": {
        "id": "dyCn-CT4aVPi"
      },
      "source": [
        "#@title Run this to import all the necessary packages { display-mode: \"form\" }\n",
        "import json\n",
        "import tweepy\n",
        "from datetime import datetime, timedelta\n",
        "import re\n",
        "import numpy as np\n",
        "import random\n",
        "import json\n",
        "import math\n",
        "from collections import Counter\n",
        "import matplotlib.pyplot as plt\n",
        "import os\n",
        "import sys\n",
        "import pandas\n",
        "\n",
        "import nltk\n",
        "nltk.download('punkt', quiet=True)\n",
        "nltk.download('wordnet',quiet=True)\n",
        "from nltk.tokenize import TweetTokenizer\n",
        "from nltk.stem import PorterStemmer, WordNetLemmatizer\n",
        "from nltk.corpus import stopwords\n",
        "nltk.download('stopwords' ,quiet=True)\n",
        "\n",
        "from sklearn.metrics import confusion_matrix, accuracy_score\n",
        "from sklearn.feature_extraction.text import CountVectorizer, TfidfVectorizer\n",
        "from sklearn.linear_model import LogisticRegression\n",
        "from sklearn.model_selection import train_test_split\n",
        "\n",
        "import gensim\n",
        "from gensim.models import Word2Vec\n",
        "from gensim.models import KeyedVectors\n",
        "\n",
        "import warnings\n",
        "warnings.filterwarnings('ignore')\n",
        "\n",
        "import gdown\n",
        "import zipfile\n",
        "import shutil\n",
        "\n",
        "gdown.download('https://drive.google.com/uc?id=1ifYLZ-19ZyjjRUICe4PDRmZFAkyL73d0','./source_data.zip',True)\n",
        "my_zip = zipfile.ZipFile('./source_data.zip', mode = 'r')\n",
        "my_zip.extractall()\n",
        "basepath = './drive/Team Drives/Inspirit Curriculum/Inspirit AI Program/Working Materials/Tejit\\'s Material/Anti-Refugee Sentiment Analysis'\n",
        "\n",
        "try:\n",
        "  shutil.move('./Anti-Refugee Sentiment Analysis/', basepath)\n",
        "except shutil.Error:\n",
        "  pass\n",
        "\n",
        "module_folder = './drive/Team Drives/Inspirit Curriculum/Inspirit AI Program/Working Materials/Tejit\\'s Material/Anti-Refugee Sentiment Analysis/'\n",
        "if module_folder not in sys.path: sys.path.append(module_folder)\n",
        "import lib\n",
        "from lib import Tweet\n",
        "from lib import Tweet_counts\n",
        "\n",
        "# # If the above doesn't work, then upload the file!\n",
        "# from google.colab import files\n",
        "# src = list(files.upload().values())[0]\n",
        "# open('lib.py','wb').write(src)\n",
        "# import lib\n",
        "# from lib import Tweet\n",
        "# from lib import Tweet_counts"
      ],
      "execution_count": null,
      "outputs": []
    },
    {
      "cell_type": "code",
      "metadata": {
        "id": "IUrRvje0Y91z",
        "outputId": "ccc09600-4fc7-448f-e8ff-2b33abd6cf43",
        "colab": {
          "base_uri": "https://localhost:8080/",
          "height": 34
        }
      },
      "source": [
        "#@title Run this to read the data from data.json and split in train and test { display-mode: \"form\" }\n",
        "file_name = 'data.json'\n",
        "dir_name = 'Data'\n",
        "file_path = os.path.join(basepath, dir_name, file_name)\n",
        "data = lib.read_json(file_path, shuffle=True)\n",
        "train, test = train_test_split(data, test_size=0.1)"
      ],
      "execution_count": null,
      "outputs": [
        {
          "output_type": "stream",
          "text": [
            "Total number of unique tweets read are: 672\n"
          ],
          "name": "stdout"
        }
      ]
    },
    {
      "cell_type": "markdown",
      "metadata": {
        "id": "lCUv39e9UbZS"
      },
      "source": [
        "# Milestone 1: Data Cleaning"
      ]
    },
    {
      "cell_type": "markdown",
      "metadata": {
        "id": "v7WiC9RVxt8H"
      },
      "source": [
        "## Cleaning\n",
        "\n",
        "\n",
        "We often can improve the performance of our models by cleaning data before using it for training and prediction. You might have heard that data is what makes machine learning models effective, and garbage training data in will lead to garbage output predictions. This is especially true for data pulled from the web, which is often especially in need of cleaning."
      ]
    },
    {
      "cell_type": "markdown",
      "metadata": {
        "id": "JpACc1LhvYsl"
      },
      "source": [
        "### Exercise (Discussion)"
      ]
    },
    {
      "cell_type": "markdown",
      "metadata": {
        "id": "eIFkL_5xvbSE"
      },
      "source": [
        "Why do you think data cleaning might be important for this dataset? Discuss a few reasons!"
      ]
    },
    {
      "cell_type": "markdown",
      "metadata": {
        "id": "y0oQ8Vo1vgDA"
      },
      "source": [
        "### Examining data to clean - Exercise (Discussion)"
      ]
    },
    {
      "cell_type": "markdown",
      "metadata": {
        "id": "S32Xg589VCTa"
      },
      "source": [
        "Let us look at the data once more, to figure out what we should clean."
      ]
    },
    {
      "cell_type": "code",
      "metadata": {
        "id": "cLRbKM_DutRl",
        "outputId": "450ad268-70de-4a7b-dec2-b8c4718ddf11",
        "colab": {
          "base_uri": "https://localhost:8080/",
          "height": 187
        }
      },
      "source": [
        "tweet_list = [t.original_tweet_text for t in data] # Shorthand For loop\n",
        "tweet_list[:10] # Looking at the first 10"
      ],
      "execution_count": null,
      "outputs": [
        {
          "output_type": "execute_result",
          "data": {
            "text/plain": [
              "['rt @care4calais c4c volunteer sophie documents what life is like for refugee families living in calais &gt&gt',\n",
              " \"i knew this would happen .  it\\\\'s one reason why i was #nevertrump\",\n",
              " \"merkel should shut she\\\\'s the cause of europe\\\\'s refugee problems and terrorism .  liberal douchebag !\",\n",
              " 'this entire thread = excellent analysis of how the so-called #refugee crisis operates as a rhetorical device a del',\n",
              " 'rt @m_star_online thousands of refugees in britain at risk of homelessness and destitution due to a shortage of government support',\n",
              " \"rt @thenewdomshow my friend is working in a refugee camp in calais making syrian kids smile by teaching them how to juggle and i\\\\'ve never\",\n",
              " 'rt @refugeecouncil did you know 1 in every 113 people on the planet is an asylum-seeker internally displaced or a refugee ?  if you a',\n",
              " 'rt @addamschloe albert einstein was literally a refugee of an aspiring ethnostate and was politically very left-wing',\n",
              " 'refugee history british aid to refugees in sweden during the napoleonic wars',\n",
              " \"\\\\'refugee support shouldn\\\\'t be a hard ask .  it\\\\'s about common sense decency and compassion . \\\\' @davidburrowesmp #refugeeswelcome @appgrefugees\"]"
            ]
          },
          "metadata": {
            "tags": []
          },
          "execution_count": 44
        }
      ]
    },
    {
      "cell_type": "markdown",
      "metadata": {
        "id": "EhxrWCj7u24w"
      },
      "source": [
        "We can get the following properties from the tweets:\n",
        "\n",
        "> Hashtag\n",
        "\n",
        "> Mentions\n",
        "\n",
        "> Punctuations\n",
        "\n",
        "**Out of these properties, what properties do you think should be removed and why?**\n"
      ]
    },
    {
      "cell_type": "markdown",
      "metadata": {
        "id": "SpeHxttYxYJ-"
      },
      "source": [
        "### Tweets post-cleaning"
      ]
    },
    {
      "cell_type": "markdown",
      "metadata": {
        "id": "uCNMRWhZ1Ck9"
      },
      "source": [
        "Let us look at what a tweet would look post cleaning!"
      ]
    },
    {
      "cell_type": "code",
      "metadata": {
        "id": "fjp7al0s1Fbh",
        "cellView": "form",
        "outputId": "30142e11-56bf-4e80-df99-fcac25c84551",
        "colab": {
          "base_uri": "https://localhost:8080/",
          "height": 35
        }
      },
      "source": [
        "#@title Tweet post cleaning { run: \"auto\", vertical-output: true }\n",
        "text = \"rt @shadilayforever well at least now the african immigrants we get won\\\\\\\\'t have ebola !\" #@param {type:\"string\"}\n",
        "if not text: raise Exception ('Please enter some text')\n",
        "category = \"True\" #@param [\"True\", \"False\"] {type:\"string\"}\n",
        "if category=='True': \n",
        "  t = Tweet(text,True)\n",
        "else: \n",
        "  t = Tweet(text,False)\n",
        "t.tweet_text\n",
        "\n"
      ],
      "execution_count": null,
      "outputs": [
        {
          "output_type": "execute_result",
          "data": {
            "application/vnd.google.colaboratory.intrinsic+json": {
              "type": "string"
            },
            "text/plain": [
              "'rt well at least now the african immigrants we get won have ebola'"
            ]
          },
          "metadata": {
            "tags": []
          },
          "execution_count": 45
        }
      ]
    },
    {
      "cell_type": "markdown",
      "metadata": {
        "id": "4SY48THiinR9"
      },
      "source": [
        "The cleaned tweet text, based on the above rules, can be accessed using the Tweet class like so:  `tweet1.tweet_text`"
      ]
    },
    {
      "cell_type": "code",
      "metadata": {
        "id": "2UBHud-Ej_QC",
        "outputId": "9659aa89-29d3-40c2-de1a-db31d8f11ff1",
        "colab": {
          "base_uri": "https://localhost:8080/",
          "height": 187
        }
      },
      "source": [
        "tweet_list = [t.tweet_text for t in data] # Shorthand For loop\n",
        "tweet_list[:10] # Looking at the first 10"
      ],
      "execution_count": null,
      "outputs": [
        {
          "output_type": "execute_result",
          "data": {
            "text/plain": [
              "['rt c4c volunteer sophie documents what life is like for refugee families living in calais gt gt',\n",
              " 'i knew this would happen it s one reason why i was nevertrump',\n",
              " 'merkel should shut she s the cause of europe s refugee problems and terrorism liberal douchebag',\n",
              " 'this entire thread = excellent analysis of how the so-called refugee crisis operates as a rhetorical device a del',\n",
              " 'rt thousands of refugees in britain at risk of homelessness and destitution due to a shortage of government support',\n",
              " 'rt my friend is working in a refugee camp in calais making syrian kids smile by teaching them how to juggle and i ve never',\n",
              " 'rt did you know 1 in every 113 people on the planet is an asylum-seeker internally displaced or a refugee if you a',\n",
              " 'rt albert einstein was literally a refugee of an aspiring ethnostate and was politically very left-wing',\n",
              " 'refugee history british aid to refugees in sweden during the napoleonic wars',\n",
              " 'refugee support shouldn be a hard ask it s about common sense decency and compassion refugeeswelcome']"
            ]
          },
          "metadata": {
            "tags": []
          },
          "execution_count": 46
        }
      ]
    },
    {
      "cell_type": "markdown",
      "metadata": {
        "id": "GRcZX84-x06q"
      },
      "source": [
        "## Stop Words"
      ]
    },
    {
      "cell_type": "markdown",
      "metadata": {
        "id": "5IdSIVSLyWMr"
      },
      "source": [
        "### Exercise (Discussion)"
      ]
    },
    {
      "cell_type": "markdown",
      "metadata": {
        "id": "KRJJ0Dx4x5Z5"
      },
      "source": [
        "We covered properties of tweet that needs to be removed. What about words? Are there words that can be removed without affecting the model? Write examples of a few words that you think can be removed from the sentence, but yet the sentence would not be mis-classified (Think of words that occur most common, and in both the tweet categories...)"
      ]
    },
    {
      "cell_type": "markdown",
      "metadata": {
        "id": "PuaBaOhTzm6b"
      },
      "source": [
        "### Stop Words"
      ]
    },
    {
      "cell_type": "markdown",
      "metadata": {
        "id": "4yF6R42-zoUp"
      },
      "source": [
        "Stop words are words that occur in both category, that are not relevant to the context, such as 'at', 'is', 'the' and so on... It is usually advantageous for the classifier to ignore these stop words, since they may add noises or cause numerical issues as they add baggage to the model. For example, the word \"are\" doesn't tell you much that could be helpful for our sentiment analysis classification task, and it can be removed to simplify the task for our model."
      ]
    },
    {
      "cell_type": "code",
      "metadata": {
        "id": "RIsSdBJ14Zn_",
        "outputId": "37f33f10-4347-428e-b241-dc41e2f707af",
        "colab": {
          "base_uri": "https://localhost:8080/",
          "height": 204
        }
      },
      "source": [
        "#@title Few Stop-Words { vertical-output: true, display-mode: \"form\" }\n",
        "eng_stopwords = set(stopwords.words('english'))\n",
        "for i,word in enumerate(eng_stopwords):\n",
        "    if i>10: break\n",
        "    print(word)\n"
      ],
      "execution_count": null,
      "outputs": [
        {
          "output_type": "stream",
          "text": [
            "here\n",
            "against\n",
            "no\n",
            "mustn\n",
            "hasn't\n",
            "those\n",
            "such\n",
            "before\n",
            "now\n",
            "did\n",
            "you're\n"
          ],
          "name": "stdout"
        }
      ]
    },
    {
      "cell_type": "markdown",
      "metadata": {
        "id": "mBPkmmzF4mWU"
      },
      "source": [
        "Let us see if the words you identified are stop words or not. Check your words here, using this interactive piece of code. After you run once, the code will run automatically whenever you change the word."
      ]
    },
    {
      "cell_type": "code",
      "metadata": {
        "id": "Gw75nnP14t-k",
        "outputId": "f8b1970f-e7d4-4d2c-fe05-8b203c8a2be9",
        "colab": {
          "base_uri": "https://localhost:8080/",
          "height": 34
        }
      },
      "source": [
        "#@title Check stop words { run: \"auto\", vertical-output: true, display-mode: \"both\" }\n",
        "word = \"how\" #@param {type:\"string\"}\n",
        "if not word: raise Exception('Please enter a word')\n",
        "eng_stopwords = set(stopwords.words('english'))\n",
        "if word.lower().strip() in eng_stopwords: print('Yes, this is a stop word.')\n",
        "else: print('No, ' + word + ' is not a stop word.')\n",
        "\n",
        "\n"
      ],
      "execution_count": null,
      "outputs": [
        {
          "output_type": "stream",
          "text": [
            "Yes, this is a stop word.\n"
          ],
          "name": "stdout"
        }
      ]
    },
    {
      "cell_type": "markdown",
      "metadata": {
        "id": "4hFlcMNKKmv0"
      },
      "source": [
        "## Stemming vs Lemmatization"
      ]
    },
    {
      "cell_type": "markdown",
      "metadata": {
        "id": "pKOu6h9sL3tE"
      },
      "source": [
        "### Introduction"
      ]
    },
    {
      "cell_type": "markdown",
      "metadata": {
        "id": "7QP3DCDjILp6"
      },
      "source": [
        "Stemming is the process of reducing words to their root/base word. For instance, it reduces all the following words to like: \n",
        "\n",
        "* \"likes\"\n",
        "* \"liked\"\n",
        "* \"likely\"\n",
        "* \"liking\"\n",
        "\n",
        "Lemmatization is also the process of reducing words to their root/base, but it refers to the dictionary form of the word. While lemmatization always preserves a grammatically correct version of a word (as opposed to stemming), it may also not reduce some words down to the form you expected. In the forms of the word \"like\" above, only \"likes\" would be lemmatized down to \"like\".\n",
        "\n",
        "We can see the difference between the lemmatized and the stemmed versions below.\n",
        "\n",
        "```\n",
        " Original |Stem |Lemma \n",
        "--------------------\n",
        "  likes   |like | like \n",
        "  liked   |like |liked \n",
        "  likely  |like |likely\n",
        "  liking  |like |liking\n",
        "```"
      ]
    },
    {
      "cell_type": "markdown",
      "metadata": {
        "id": "hUV5_smGLgAc"
      },
      "source": [
        "The stem of each word is the same!"
      ]
    },
    {
      "cell_type": "markdown",
      "metadata": {
        "id": "Xvod2WrzL5oH"
      },
      "source": [
        "### Stemming vs Lemmatization - Interactive"
      ]
    },
    {
      "cell_type": "markdown",
      "metadata": {
        "id": "RWyupa1fLUon"
      },
      "source": [
        "The following piece of code allows you to check the stem of different words. You can enter multiple words at a time by seperating them with commas."
      ]
    },
    {
      "cell_type": "code",
      "metadata": {
        "id": "nSIRTUDXMdzH",
        "outputId": "434625e7-97d3-4f26-fb16-261977b24a9d",
        "colab": {
          "base_uri": "https://localhost:8080/",
          "height": 102
        }
      },
      "source": [
        "#@title Stemming { display-mode: \"both\" }\n",
        "word = \"was\" #@param {type:'string'}\n",
        "if not word: raise Exception('Please enter a word/words')\n",
        "words = word.split(',')\n",
        "stemmer = PorterStemmer()\n",
        "lemmatizer = WordNetLemmatizer()\n",
        "print('Original: ' + word)\n",
        "print(\"STEM: \")\n",
        "print(stemmer.stem(word))\n",
        "print(\"LEMMA: \")\n",
        "print(lemmatizer.lemmatize(word))\n",
        "  \n"
      ],
      "execution_count": null,
      "outputs": [
        {
          "output_type": "stream",
          "text": [
            "Original: was\n",
            "STEM: \n",
            "wa\n",
            "LEMMA: \n",
            "wa\n"
          ],
          "name": "stdout"
        }
      ]
    },
    {
      "cell_type": "markdown",
      "metadata": {
        "id": "MYmIUGamOuaN"
      },
      "source": [
        "# Milestone 2: Bag of Words and Tfidf Vectorizers"
      ]
    },
    {
      "cell_type": "markdown",
      "metadata": {
        "id": "sdxanRcaUjtw"
      },
      "source": [
        "## One-Hot Encoding"
      ]
    },
    {
      "cell_type": "markdown",
      "metadata": {
        "id": "v_fBuMp_UsO8"
      },
      "source": [
        "**One Hot Encoding**, also known as one-of-K scheme is a way to encode the data to be used in other functions (such as linear regression).\n",
        "\n",
        "Let us consider an example to understand one hot encoding!"
      ]
    },
    {
      "cell_type": "markdown",
      "metadata": {
        "id": "WglQHb6pVD1v"
      },
      "source": [
        "Before we apply a model on our tweets, we need to convert it to a form the model, i.e. a machine, can understand - esentially convert a tweet to numerical form. We cannot just pass words to the model, because it won't know what those mean and migt try and exrtract information from them. Hence, a numerical format is the best. \n",
        "\n",
        "The easiest way to do so is to map each word in a tweet to a number, a categorical value. This will represent all words in a tweet uniquely!\n",
        "\n",
        "---\n",
        "Suppose we have a tweet:\n",
        "> Tweet: 'supporting refugee children in education' <br>\n",
        "> Category: False\n",
        "\n",
        "Its numerical representation would be:"
      ]
    },
    {
      "cell_type": "code",
      "metadata": {
        "id": "kqSH4SwDUrol",
        "outputId": "13ea8fe7-ef25-4663-b69b-7c8d905b7bc6",
        "colab": {
          "base_uri": "https://localhost:8080/",
          "height": 136
        }
      },
      "source": [
        "#@title Numeric Represention { vertical-output: true, display-mode: \"form\" }\n",
        "d = {'supporting': 1, 'refugee': 2, 'children': 3, 'in': 4, 'education': 5}\n",
        "print('{:<12}|{:>2}'.format('word', 'value'))\n",
        "print('-------------------')\n",
        "for k,v in d.items(): print('{:<12}|{:>3}'.format(k,v))"
      ],
      "execution_count": null,
      "outputs": [
        {
          "output_type": "stream",
          "text": [
            "word        |value\n",
            "-------------------\n",
            "supporting  |  1\n",
            "refugee     |  2\n",
            "children    |  3\n",
            "in          |  4\n",
            "education   |  5\n"
          ],
          "name": "stdout"
        }
      ]
    },
    {
      "cell_type": "markdown",
      "metadata": {
        "id": "8b-n3laDc1ZS"
      },
      "source": [
        "### Exercise (Discussion)"
      ]
    },
    {
      "cell_type": "markdown",
      "metadata": {
        "id": "Qs-sKZVoc6PN"
      },
      "source": [
        "Why do you think the above representation is wrong (or at least unhelpful)? What information could a model possibly extract from the above information such that its conclusions would be wrong/way off to what we want to achieve."
      ]
    },
    {
      "cell_type": "markdown",
      "metadata": {
        "id": "_IkTeoqVdTSu"
      },
      "source": [
        "### One Hot Encoding"
      ]
    },
    {
      "cell_type": "markdown",
      "metadata": {
        "id": "ba6M5gJ9dScQ"
      },
      "source": [
        "We need to encode the words and include them as a feature to train the model. That is where One Hot Encoding comes into play. Understanding how it is done will make the process clearer\n",
        "\n",
        "Let us consider the same example and see what its one hot encoding would be"
      ]
    },
    {
      "cell_type": "code",
      "metadata": {
        "id": "xzqRYQVfKYwZ",
        "outputId": "bdfe290d-5289-4c4f-bfe3-f1e4c1f9b398",
        "colab": {
          "base_uri": "https://localhost:8080/",
          "height": 136
        }
      },
      "source": [
        "#@title One Hot Encoding { vertical-output: true, display-mode: \"form\" }\n",
        "\n",
        "print('{:^10}|{:^7}|{:^8}|{:^2}|{:^9}'.format('supporting', 'refugee', 'children','in','education'))\n",
        "print('---------------------------------------------------')\n",
        "print('{:^10}|{:^7}|{:^8}|{:^2}|{:^9}'.format('1', '0', '0','0','0'))\n",
        "print('{:^10}|{:^7}|{:^8}|{:^2}|{:^9}'.format('0', '1', '0','0','0'))\n",
        "print('{:^10}|{:^7}|{:^8}|{:^2}|{:^9}'.format('0', '0', '1','0','0'))\n",
        "print('{:^10}|{:^7}|{:^8}|{:^2}|{:^9}'.format('0', '0', '0','1','0'))\n",
        "print('{:^10}|{:^7}|{:^8}|{:^2}|{:^9}'.format('0', '0', '0','0','1'))\n"
      ],
      "execution_count": null,
      "outputs": [
        {
          "output_type": "stream",
          "text": [
            "supporting|refugee|children|in|education\n",
            "---------------------------------------------------\n",
            "    1     |   0   |   0    |0 |    0    \n",
            "    0     |   1   |   0    |0 |    0    \n",
            "    0     |   0   |   1    |0 |    0    \n",
            "    0     |   0   |   0    |1 |    0    \n",
            "    0     |   0   |   0    |0 |    1    \n"
          ],
          "name": "stdout"
        }
      ]
    },
    {
      "cell_type": "markdown",
      "metadata": {
        "id": "G4ihznS8vA3p"
      },
      "source": [
        "You see here, each letter is represented using a row of 1's and 0's, a row which can essentially represent the whole of the vocabulary. This is called one hot encoding.\n",
        "\n",
        "So 'supporting' would be [1,0,0,0,0]\n",
        "\n",
        "And a whole sentence is the combination of all the words and hence their one hot encoding. So the representation of the sentence 'supporting children' would be [1,0,1,0,0]. We can see how this encoding does not suffer the problem of our initial numerical representation."
      ]
    },
    {
      "cell_type": "markdown",
      "metadata": {
        "id": "pGIjELh0wDD1"
      },
      "source": [
        "### The Bag of words model"
      ]
    },
    {
      "cell_type": "markdown",
      "metadata": {
        "id": "Wi7A3SuRwGdP"
      },
      "source": [
        "Now that we have the one hot encoding for all tweets, it's time to attach a value to each word, such that it can be distinguished and used by the model. \n",
        "\n",
        "One idea is to assign each word the same weight, say a weight of one. However, that is non-distinguishable and the model won't be able to learn anything with that information. Can you think of a simple way to add weights to words which, say, occur more frequently?\n",
        "\n",
        "That is the Bag of Words Model. The **Bag of Words Model** converts the tweets into a matrix of token counts. Let us consider an example.\n",
        "\n",
        "----"
      ]
    },
    {
      "cell_type": "markdown",
      "metadata": {
        "id": "ebbwyut2jxgl"
      },
      "source": [
        "Say I have the following tweets:\n",
        "\n",
        "> Tweet: 'supporting refugee children in education' <br>Category: False\n",
        "\n",
        "> Tweet: 'supporting children is bad' <br>Category: True\n",
        "\n",
        "> Tweet: 'refugee have the same right' <br>Category: False"
      ]
    },
    {
      "cell_type": "markdown",
      "metadata": {
        "id": "I_nJ-Kqtkvv6"
      },
      "source": [
        "The Vocabulary for the tweets would be:"
      ]
    },
    {
      "cell_type": "code",
      "metadata": {
        "id": "Ax8Y4gQCsibD",
        "outputId": "9be992d6-4ca6-4cb9-d8a6-9d08fc9c72b9",
        "colab": {
          "base_uri": "https://localhost:8080/",
          "height": 238
        }
      },
      "source": [
        "#@title Vocabulary { vertical-output: true, display-mode: \"form\" }\n",
        "tweet1 = Tweet('supporting refugee children in education', False)\n",
        "tweet2 = Tweet('supporting children is bad', True)\n",
        "tweet3 = Tweet('refugee have the same right', False)\n",
        "word_count = Counter()\n",
        "for tweet in [tweet1, tweet2, tweet3]:\n",
        "  for t in tweet.tokenList: word_count[t]+=1\n",
        "word_count_list = [(k,v) for k,v in word_count.items()]\n",
        "word_count_list.sort(key=lambda x:x[0])\n",
        "print('{:<12}|{:>2}'.format('word', 'position'))\n",
        "print('-------------------')\n",
        "for k,v in enumerate(word_count_list): print('{:<12}|{:>3}'.format(v[0],k))"
      ],
      "execution_count": null,
      "outputs": [
        {
          "output_type": "stream",
          "text": [
            "word        |position\n",
            "-------------------\n",
            "bad         |  0\n",
            "children    |  1\n",
            "education   |  2\n",
            "have        |  3\n",
            "in          |  4\n",
            "is          |  5\n",
            "refugee     |  6\n",
            "right       |  7\n",
            "same        |  8\n",
            "supporting  |  9\n",
            "the         | 10\n"
          ],
          "name": "stdout"
        }
      ]
    },
    {
      "cell_type": "markdown",
      "metadata": {
        "id": "IkY5OPdZ1XXR"
      },
      "source": [
        "Since there are 11 words in the vocabulary, each row in the matrix would be of 11 words. \n",
        "\n",
        "Based on this, one hot encoding for each tweet is:\n",
        "\n",
        "> Tweet: 'supporting refugee children in education' <br>Encoding: [0,1,1,0,1,0,1,0,0,1,0]\n",
        "\n",
        "> Tweet: 'supporting children is bad' <br>Encoding: [1,1,0,0,0,1,1,0,0,1,0]\n",
        "\n",
        "> Tweet: 'refugee have the same right' <br>Encoding: [0,0,0,1,0,0,1,1,1,0,1]\n",
        "\n",
        "The matrix that will be given to the model would be:\n"
      ]
    },
    {
      "cell_type": "code",
      "metadata": {
        "id": "H_76eMK02_jD",
        "cellView": "form",
        "outputId": "437e899d-0680-411b-9ac9-a304d7eb4a29",
        "colab": {
          "base_uri": "https://localhost:8080/",
          "height": 68
        }
      },
      "source": [
        "#@title Matrix { vertical-output: true }\n",
        "np.array([[0,1,1,0,1,0,1,0,0,1,0],\n",
        "          [1,1,0,0,0,1,1,0,0,1,0],\n",
        "          [0,0,0,1,0,0,1,1,1,0,1]], dtype=np.int64)\n"
      ],
      "execution_count": null,
      "outputs": [
        {
          "output_type": "execute_result",
          "data": {
            "text/plain": [
              "array([[0, 1, 1, 0, 1, 0, 1, 0, 0, 1, 0],\n",
              "       [1, 1, 0, 0, 0, 1, 1, 0, 0, 1, 0],\n",
              "       [0, 0, 0, 1, 0, 0, 1, 1, 1, 0, 1]])"
            ]
          },
          "metadata": {
            "tags": []
          },
          "execution_count": 51
        }
      ]
    },
    {
      "cell_type": "markdown",
      "metadata": {
        "id": "a0Sh25vn070D"
      },
      "source": [
        "And the token count for each word is"
      ]
    },
    {
      "cell_type": "code",
      "metadata": {
        "id": "OwwUjET5z_NY",
        "cellView": "form",
        "outputId": "51557dda-ed68-4f6e-8a9f-2f8a1bff7989",
        "colab": {
          "base_uri": "https://localhost:8080/",
          "height": 238
        }
      },
      "source": [
        "#@title Token Counts { vertical-output: true }\n",
        "print('{:<12}|{:>2}'.format('word', 'word_count'))\n",
        "print('-------------------')\n",
        "for k,v in word_count_list: print('{:<12}|{:>3}'.format(k,v))"
      ],
      "execution_count": null,
      "outputs": [
        {
          "output_type": "stream",
          "text": [
            "word        |word_count\n",
            "-------------------\n",
            "bad         |  1\n",
            "children    |  2\n",
            "education   |  1\n",
            "have        |  1\n",
            "in          |  1\n",
            "is          |  1\n",
            "refugee     |  2\n",
            "right       |  1\n",
            "same        |  1\n",
            "supporting  |  2\n",
            "the         |  1\n"
          ],
          "name": "stdout"
        }
      ]
    },
    {
      "cell_type": "markdown",
      "metadata": {
        "id": "343-iiNTbyQt"
      },
      "source": [
        "### Exercise (Coding) (Challenge)"
      ]
    },
    {
      "cell_type": "markdown",
      "metadata": {
        "id": "QYgDE0XVgDS6"
      },
      "source": [
        "Let us try and code a function that gives us the bag of words of a sentence. As arguments, we will need all the sentences to make up the list of words, and we will need the sentence that we want to get the bag of words of. \n",
        "\n",
        "First we would need to create a vocabulary of all the unique words in all the sentences. Next, we can use a Python dictionary to map each word to a particular index i.e. the `key` would be the word and the `value` would be a unique number corresponding to each word.\n",
        "\n",
        "We can then initialize our bag of words encoding as a numpy array of zeros (`np.zeros()`) of the same length as the vocabulary, and loop through all the words of our individual sentence. We can access the index of that particular word using our dictionary, and then increment that corresponding index in the bag of words encoding.\n",
        "\n",
        "If you have any questions about this code, feel free to ask your instructor!\n",
        "\n",
        "*Hint: an easy way to delete duplicate items from a list is to use a set, e.g. `lst = list(set(lst)).`*"
      ]
    },
    {
      "cell_type": "code",
      "metadata": {
        "id": "UiyZdE3rhUmQ"
      },
      "source": [
        "def bow_encoding(sentences, sentence):\n",
        "  \"\"\"\n",
        "  param: sentences - list of sentences to form the one hot encoding\n",
        "  param: sentence - sentence to return the one hot encoding of\n",
        "  return: sent_encoding - the encoded sentence\n",
        "  \"\"\"\n",
        "  vocab = []\n",
        "  for sent in sentences:\n",
        "    vocab.extend(sent.split())\n",
        "  vocab = list(set(vocab))\n",
        "  \n",
        "  str_to_idx = {}\n",
        "  for w in range(len(vocab)):\n",
        "    word = vocab[w]\n",
        "    str_to_idx[word] = w     # fill in the blanks!\n",
        "    \n",
        "  sent_encoding = np.zeros(len(vocab))\n",
        "  \n",
        "  for word in sentence:\n",
        "    try:\n",
        "      indx = str_to_idx[word]\n",
        "      sent_encoding[indx] += 1\n",
        "    except KeyError:\n",
        "      pass\n",
        "  \n",
        "  \n",
        "  return sent_encoding\n",
        "  \n",
        "\n",
        "  "
      ],
      "execution_count": null,
      "outputs": []
    },
    {
      "cell_type": "markdown",
      "metadata": {
        "id": "lLwVPgcLQQY1"
      },
      "source": [
        "Test your encoding function here."
      ]
    },
    {
      "cell_type": "code",
      "metadata": {
        "id": "xbmEy5t-h8SO"
      },
      "source": [
        "encode = bow_encoding(tweet_list,'remembering an earlier refugee crisis and a family who risked their lives to help')"
      ],
      "execution_count": null,
      "outputs": []
    },
    {
      "cell_type": "code",
      "metadata": {
        "id": "F3C9lXi7aa_E",
        "outputId": "2592ebdb-4425-4dae-eb08-df7397de35f0",
        "colab": {
          "base_uri": "https://localhost:8080/",
          "height": 340
        }
      },
      "source": [
        "for i in encode:\n",
        "  if i > 0.:\n",
        "    print (i)"
      ],
      "execution_count": null,
      "outputs": [
        {
          "output_type": "stream",
          "text": [
            "5.0\n",
            "2.0\n",
            "1.0\n",
            "2.0\n",
            "12.0\n",
            "2.0\n",
            "1.0\n",
            "3.0\n",
            "8.0\n",
            "2.0\n",
            "1.0\n",
            "4.0\n",
            "1.0\n",
            "4.0\n",
            "3.0\n",
            "2.0\n",
            "3.0\n",
            "1.0\n",
            "1.0\n"
          ],
          "name": "stdout"
        }
      ]
    },
    {
      "cell_type": "code",
      "metadata": {
        "id": "UBL2ZMKwjei6",
        "outputId": "f5bfe8e2-4623-4ece-ef1b-df335da43742",
        "colab": {
          "base_uri": "https://localhost:8080/",
          "height": 34
        }
      },
      "source": [
        "# we can see how many nonzero elements are in our vector by running this cell\n",
        "np.count_nonzero(encode)"
      ],
      "execution_count": null,
      "outputs": [
        {
          "output_type": "execute_result",
          "data": {
            "text/plain": [
              "19"
            ]
          },
          "metadata": {
            "tags": []
          },
          "execution_count": 72
        }
      ]
    },
    {
      "cell_type": "markdown",
      "metadata": {
        "id": "47MUrjutQXmB"
      },
      "source": [
        "Congratulations! You have successfully replicated the functionality of scikit-learn's CountVectorizer class! However we will still be using that going forward, because it's important to get familiar with the tools that are used commonly in industry. "
      ]
    },
    {
      "cell_type": "markdown",
      "metadata": {
        "id": "Lg5gkx3jI9CG"
      },
      "source": [
        "### CountVectorizer - Review"
      ]
    },
    {
      "cell_type": "markdown",
      "metadata": {
        "id": "9HcyuzbvJCN6"
      },
      "source": [
        "CountVectorizer produces a vector from each individual piece of text. The length of each vector is the same (the length of the vocabulary) and so the group of all the texts together is a matrix, which can then be passed on to a machine learning model later on (such as logistic regression or a neural network). Think of it this way: it just allows you to generate the correct kind of input to be used by the model to learn information about the training data. Any test data that it makes predictions on must be similarly transformed with a vectorizer. "
      ]
    },
    {
      "cell_type": "markdown",
      "metadata": {
        "id": "ijxeGiNcJnRN"
      },
      "source": [
        "CountVectorizer's Transform method transforms the given data to the matrix, there is no learning here. It does not generate a vocabulary, nor does it allow for many other functionalities that the fit method allows for. Hence, it cannot be used as a substitue for the fit method as it just spews out the matrix representation of the data!<br>"
      ]
    },
    {
      "cell_type": "markdown",
      "metadata": {
        "id": "Lawl8vijIMIs"
      },
      "source": [
        "### Exercise (Coding)"
      ]
    },
    {
      "cell_type": "markdown",
      "metadata": {
        "id": "aRlc2lohePfX"
      },
      "source": [
        "Let us make the CountVectorizer and use its fit and transform methods. An example has been shown for you below. Try it on tweets of your choice!"
      ]
    },
    {
      "cell_type": "code",
      "metadata": {
        "id": "895LTm1pKjpF",
        "outputId": "4b1a54a0-3afc-4831-e030-798ec309a48b",
        "colab": {
          "base_uri": "https://localhost:8080/",
          "height": 85
        }
      },
      "source": [
        "tweet_01 = Tweet('This is a big tweet ', True)\n",
        "tweet_02 = Tweet('Sample Tweet two', True)\n",
        "tweet_03 = Tweet('this is the third sample', True)\n",
        "train_text = [t.tweet_text for t in [tweet_01, tweet_02, tweet_03]]\n",
        "print(train_text)\n",
        "\n",
        "\n",
        "vectorizer = CountVectorizer()\n",
        "vectorizer.fit(train_text)\n",
        "\n",
        "print(vectorizer.transform(tweet_02.tokenList))"
      ],
      "execution_count": null,
      "outputs": [
        {
          "output_type": "stream",
          "text": [
            "['this is a big tweet', 'sample tweet two', 'this is the third sample']\n",
            "  (0, 2)\t1\n",
            "  (1, 6)\t1\n",
            "  (2, 7)\t1\n"
          ],
          "name": "stdout"
        }
      ]
    },
    {
      "cell_type": "markdown",
      "metadata": {
        "id": "e_O8BkE5d2Cu"
      },
      "source": [
        "The transformed vector is generally a very sparse vector with a large majority of zeros (here in our example above only has about 10 words in the vocabulary). The output of `print` for this sparse vector, instead of displaying all the zeros, simply outputs the count of each word in that particular sentence. \n",
        "\n",
        "The three numbers in each row are - `(index in the sentence, index in the vocabulary)                  count`"
      ]
    },
    {
      "cell_type": "markdown",
      "metadata": {
        "id": "-7NSbyn9SGp0"
      },
      "source": [
        "## Tf-Idf Weighting\n",
        "\n",
        "Bag of words and counting words by how frequently they occur in a corpus is the most basic way to \"vectorize\" a model. However one step up of sophistication is **tf-idf** weighting. Tf-idf stands for \"term-frequency inverse-document-frequency\". This weight is a statistical measure used to evaluate how important a word is to a document in a collection or corpus. The importance increases proportionally to the number of times a word appears in the document but is offset by the frequency of the word in the corpus. The two terms are calculated as\n",
        "\n",
        "*   TF: Term Frequency, which measures how frequently a term occurs in a document. Since every document is different in length, it is possible that a term would appear much more times in long documents than shorter ones. Thus, the term frequency is often divided by the document length (aka. the total number of terms in the document) as a way of normalization: \n",
        "\n",
        "  TF(t) = (Number of times term t appears in a document) / (Total number of terms in the document).\n",
        "\n",
        "\n",
        "*   IDF: Inverse Document Frequency, which measures how important a term is. While computing TF, all terms are considered equally important. However it is known that certain terms, such as \"is\", \"of\", and \"that\", may appear a lot of times but have little importance. Thus we need to weigh down the frequent terms while scale up the rare ones, by computing the following: \n",
        "\n",
        "  IDF(t) = log_e(Total number of documents / Number of documents with term t in it).\n",
        "  \n",
        "The intuition for the inverse document frequency weighting term is similar to that of stop words - some words do not contribute much meaning. However it is more subtle. Imagine we have a collection of legal documents we want to classify. There are certain words that are not stop words but would be common to many of the documents we may want to classify - \"affadavit\", \"prosecute\", \"case\" etc. These words indicate we are in the legal space but not help us in our task of classifying one legal document from another. You might see how this would be helpful for our task of classifying anti refugee tweets from pro refugee tweets!\n",
        "\n",
        "We can use scikit-learn's `TfidfVectorizer` in the same way as `CountVectorizer`\n",
        "\n",
        "`vectorizer = TfidfVectorizer()`\n",
        "\n",
        "![alt text](https://skymind.ai/images/wiki/tfidf.png)\n",
        "\n",
        "\n",
        "\n",
        "\n",
        "\n"
      ]
    },
    {
      "cell_type": "code",
      "metadata": {
        "id": "Bksmm33QVqdS",
        "outputId": "39e96aaa-b858-4988-9fac-fb261067f626",
        "colab": {
          "base_uri": "https://localhost:8080/",
          "height": 119
        }
      },
      "source": [
        "tweet_01 = Tweet('This is a big tweet ', True)\n",
        "tweet_02 = Tweet('Sample Tweet two', True)\n",
        "tweet_03 = Tweet('this is a third sample', True)\n",
        "# You can add more tweets here\n",
        "train_text = [t.tweet_text for t in [tweet_01, tweet_02, tweet_03]]\n",
        "print(train_text)\n",
        "\n",
        "### YOUR CODE STARTS HERE ###\n",
        "\n",
        "\n",
        "vectorizer = TfidfVectorizer(train_text)\n",
        "X = vectorizer.fit(train_text)\n",
        "print(X.vocabulary)\n",
        "# make a TfidfVectorizer\n",
        "# fit the data train_text to the vectorizer using the .fit method\n",
        "# print the vocabulary of the vectorizer\n",
        "\n",
        "\n",
        "### END CODE ###\n",
        "\n",
        "\n",
        "print(vectorizer.transform(tweet_03.tokenList))\n"
      ],
      "execution_count": null,
      "outputs": [
        {
          "output_type": "stream",
          "text": [
            "['this is a big tweet', 'sample tweet two', 'this is a third sample']\n",
            "None\n",
            "  (0, 4)\t1.0\n",
            "  (1, 1)\t1.0\n",
            "  (3, 3)\t1.0\n",
            "  (4, 2)\t1.0\n"
          ],
          "name": "stdout"
        }
      ]
    },
    {
      "cell_type": "markdown",
      "metadata": {
        "id": "r_XLNQzdvRlU"
      },
      "source": [
        "## Logistic Regression"
      ]
    },
    {
      "cell_type": "markdown",
      "metadata": {
        "id": "BS_FxE83RBuU"
      },
      "source": [
        "### What is Logistic Regression?"
      ]
    },
    {
      "cell_type": "markdown",
      "metadata": {
        "id": "AAd_hJNd0Ul5"
      },
      "source": [
        "We've just spent the last week or so learning about more sophisticated neural network architectures. Why should we begin working on a complicated task using such a simple model? Remember that logistic regression is just linear regression followed by a sigmoid function."
      ]
    },
    {
      "cell_type": "markdown",
      "metadata": {
        "id": "5zmV-2E-VCdL"
      },
      "source": [
        "**Review:** What is Logistic Regression?\n",
        "\n",
        "Logistic regression is a type of linear regression that is generally used for binary classification. Unlike linear regression which outputs continuous number values, logistic regression uses the logsitic function, also called the sigmoid function, to transform the output to return a probability value between 1 and 0, which can then be mapped to the different categories. The logistic (sigmoid) function looks something like this:\n",
        "\n",
        "![Logistic Function](https://ml-cheatsheet.readthedocs.io/en/latest/_images/sigmoid.png)\n",
        "\n",
        "Consider an example to understand logistic regression and to enchance the difference between logisitc and linear regression:\n",
        "\n",
        "> Given data on time spent studying and exam scores. Linear Regression and logistic regression can predict different things:\n",
        "\n",
        ">> *Linear Regression* could help us predict the student’s test score on a scale of 0 - 100. Linear regression predictions are continuous (numbers in a range).<br>\n",
        "*Logistic Regression* could help use predict whether the student passed or failed. Logistic regression predictions are discrete (only specific values or categories are allowed). We can also view probability scores underlying the model’s classifications."
      ]
    },
    {
      "cell_type": "markdown",
      "metadata": {
        "id": "TlicWtTrRHPC"
      },
      "source": [
        "### Why Logistic Regression?"
      ]
    },
    {
      "cell_type": "markdown",
      "metadata": {
        "id": "Ue2m3durVBE2"
      },
      "source": [
        "**A couple of reasons for using Logistic regression:**\n",
        "1.   Using a simpler model tells us how much room we have to improve. \n",
        "2.   A simple model makes iteration quick and easy–we'll see that for the project of classifying a tweet based words and hashtags and punctuations, cleverly extracting all these features from the text will be important for our success. Using a model that trains and evaluates quickly is essential for rapid feature selection.\n",
        "3.   Lastly, and perhaps most importantly, logistic regression is interpretable. You may have heard in the past that one thing deep neural networks struggle with is interpretability–when you are using these models to make predictions that affect people's wellbeing (e.g., sentencing decisions, predictive policing decisions), it becomes extremely important that you are able to understand why a model is making the predictions it makes. For simpler models like logistic regression, we get interpretability for free! "
      ]
    },
    {
      "cell_type": "markdown",
      "metadata": {
        "id": "mwJUL4QDQ-KB"
      },
      "source": [
        "### Comparison between Bag of Words and Tfidf"
      ]
    },
    {
      "cell_type": "markdown",
      "metadata": {
        "id": "bAzZHe6F-iOI"
      },
      "source": [
        "We can train a Bag of Words model and a Tf-idf model separately to vectorize the Tweets, and use those vectors to train a logistic regression model. We can compare which of those are better.\n",
        "\n",
        "However, there are also a lot of arguments we could pass into our Vectorizers and our our Logistic Regression model that could potentially improve it. In particular, we could pass in a list of custom `stop_words` to our vectorizers that might be common to our problem that might not help distinguish between a pro and anti refugee tweet. \n",
        "\n",
        "We can also pass in a parameter to our vectorizer `sublinear_tf = True` (this replaces tf with 1 + log(tf)). \n",
        "\n",
        "For the Logistic Regression model, we can pass in a parameter `penalty` that can take values `l1` and `l2` (these are different values the logistic model takes to fit the data).\n",
        "\n",
        "[Other parameters for Bag of Words (CountVectorizer)](https://scikit-learn.org/stable/modules/generated/sklearn.feature_extraction.text.CountVectorizer.html)\n",
        "\n",
        "[Other parameters for Tf-idf](https://scikit-learn.org/stable/modules/generated/sklearn.feature_extraction.text.TfidfVectorizer.html)\n",
        "\n",
        "[Other parameters for Logistic Regression](https://scikit-learn.org/stable/modules/generated/sklearn.linear_model.LogisticRegression.html)"
      ]
    },
    {
      "cell_type": "code",
      "metadata": {
        "id": "XwzNu93nWOai",
        "cellView": "form"
      },
      "source": [
        "#@title List of your custom stop words\n",
        "stopwords = \"[]\" #@param {type:'string'}\n"
      ],
      "execution_count": null,
      "outputs": []
    },
    {
      "cell_type": "code",
      "metadata": {
        "id": "30-zs1LFZiR2"
      },
      "source": [
        "# load the train and test data\n",
        "train_tweets = [t.tweet_text for t in train]\n",
        "train_tweets_label = [t.category for t in train]\n",
        "test_tweets = [t.tweet_text for t in test]"
      ],
      "execution_count": null,
      "outputs": []
    },
    {
      "cell_type": "code",
      "metadata": {
        "id": "BSMseBlEaQ3b"
      },
      "source": [
        "bow_vectorizer = CountVectorizer(stop_words=stopwords) # try passing in different parameter values\n",
        "bow_train_vect = bow_vectorizer.fit_transform(train_tweets)\n",
        "bow_test_vect = bow_vectorizer.transform(test_tweets)\n",
        "\n",
        "bow_model = LogisticRegression() # try passing in penalty=l1 or penalty=l2 here\n",
        "bow_model.fit(bow_train_vect, train_tweets_label)"
      ],
      "execution_count": null,
      "outputs": []
    },
    {
      "cell_type": "code",
      "metadata": {
        "id": "ZxjgfF0naRbI"
      },
      "source": [
        "tfidf_vectorizer = TfidfVectorizer(stop_words=stopwords,sublinear_tf=True) # try passing in different parameter values (try sublinear_tf = True)\n",
        "tfidf_train_vect = tfidf_vectorizer.fit_transform(train_tweets)\n",
        "tfidf_test_vect = tfidf_vectorizer.transform(test_tweets)\n",
        "\n",
        "tfidf_model = LogisticRegression() # try passing in penalty=l1 or penalty=l2 here\n",
        "tfidf_model.fit(tfidf_train_vect, train_tweets_label)"
      ],
      "execution_count": null,
      "outputs": []
    },
    {
      "cell_type": "code",
      "metadata": {
        "id": "ru7pn3GAcIRC"
      },
      "source": [
        "# make the predictions and get the correct values\n",
        "bow_predictions = bow_model.predict(bow_test_vect)\n",
        "tfidf_predictions = tfidf_model.predict(tfidf_test_vect)\n",
        "correct = np.array([t.category for t in test])"
      ],
      "execution_count": null,
      "outputs": []
    },
    {
      "cell_type": "code",
      "metadata": {
        "id": "nFeN1faPeVrq"
      },
      "source": [
        "bow_accuracy = accuracy_score(correct,bow_predictions)\n",
        "tfidf_accuracy = accuracy_score(correct,tfidf_predictions)\n",
        "print('Bag of words accuracy: {:0.4f}'.format(bow_accuracy))\n",
        "print('Bag of words accuracy: {:0.4f}'.format(tfidf_accuracy))"
      ],
      "execution_count": null,
      "outputs": []
    },
    {
      "cell_type": "markdown",
      "metadata": {
        "id": "mZwdfpXdc797"
      },
      "source": [
        "Play around with the parameters mentioned above to try and get the highest accuracy!"
      ]
    },
    {
      "cell_type": "markdown",
      "metadata": {
        "id": "4MaUlP0uV2n3"
      },
      "source": [
        "### Confusion Matrix"
      ]
    },
    {
      "cell_type": "markdown",
      "metadata": {
        "id": "C5gyzqKIBwwb"
      },
      "source": [
        "Let us look at some stats about the predictions to understand what the model predicted, where it did well, and where it went wrong."
      ]
    },
    {
      "cell_type": "code",
      "metadata": {
        "id": "sAqXjDIcBvnq"
      },
      "source": [
        "matrix = confusion_matrix(correct, tfidf_predictions)\n",
        "lib.disp_confusion_matrix(matrix)"
      ],
      "execution_count": null,
      "outputs": []
    },
    {
      "cell_type": "markdown",
      "metadata": {
        "id": "qLkIJU6dBbqr"
      },
      "source": [
        "Let us look at the tweets that the model predicted incorrectly"
      ]
    },
    {
      "cell_type": "code",
      "metadata": {
        "id": "o2QNub1YBjVU"
      },
      "source": [
        "print('{:^125}|{:^10}|{:^7}'.format('Tweet','Category','Result'))\n",
        "for i in range(len(test)):\n",
        "  if correct[i] != bow_predictions[i]:\n",
        "    print('{:<125}|{:^10}|{:^7}'.format(str(test[i]), correct[i], bow_predictions[i]))"
      ],
      "execution_count": null,
      "outputs": []
    },
    {
      "cell_type": "markdown",
      "metadata": {
        "id": "e2gUs9immYRA"
      },
      "source": [
        "Based on these incorrect predictions, are there any words you think you might want to add/remove to the list of stop words passed in to your model above?"
      ]
    },
    {
      "cell_type": "markdown",
      "metadata": {
        "id": "hjMsJAfRc5CI"
      },
      "source": [
        "# Milestone 3: Using Tfidf Vectors in a Neural Network\n",
        "\n",
        "We used the Tfidf vectors we created for each tweet in a logistic regression model. But we can actually use these vectors as inputs to a simple neural network as well. We can use `scikit-learn`'s `MLPClassifier` (multilayer perceptron) classifier and modify the size of the hidden layer to see if that affects our accuracy."
      ]
    },
    {
      "cell_type": "code",
      "metadata": {
        "id": "7ArthbzGdNik"
      },
      "source": [
        "from sklearn.neural_network import MLPClassifier"
      ],
      "execution_count": null,
      "outputs": []
    },
    {
      "cell_type": "code",
      "metadata": {
        "id": "RHUenHRTd3tS"
      },
      "source": [
        "nnet = MLPClassifier((400,)) # try passing in the parameter solver=lbfgs or solver=sgd"
      ],
      "execution_count": null,
      "outputs": []
    },
    {
      "cell_type": "code",
      "metadata": {
        "id": "2dIo2p8gf5xB"
      },
      "source": [
        "nnet.fit(tfidf_train_vect, train_tweets_label)\n",
        "nn_predictions = nnet.predict(tfidf_test_vect)"
      ],
      "execution_count": null,
      "outputs": []
    },
    {
      "cell_type": "code",
      "metadata": {
        "id": "Vq2x10n4gWZu"
      },
      "source": [
        "nn_acc = accuracy_score(correct,nn_predictions)"
      ],
      "execution_count": null,
      "outputs": []
    },
    {
      "cell_type": "code",
      "metadata": {
        "id": "p8qTRrmugiFr"
      },
      "source": [
        "nn_acc"
      ],
      "execution_count": null,
      "outputs": []
    },
    {
      "cell_type": "markdown",
      "metadata": {
        "id": "nXkJpVffV06t"
      },
      "source": [
        "### Exercise (Discussion)"
      ]
    },
    {
      "cell_type": "markdown",
      "metadata": {
        "id": "XdpacflwFO_8"
      },
      "source": [
        "How did the neural network perform compared to the logistic regression network? What can be done to improve it?"
      ]
    },
    {
      "cell_type": "code",
      "metadata": {
        "id": "CVnWprDPtdpF"
      },
      "source": [
        "'''\n",
        "YOUR ANSWER HERE\n",
        "'''"
      ],
      "execution_count": null,
      "outputs": []
    },
    {
      "cell_type": "markdown",
      "metadata": {
        "id": "-gg1B7NfkfzA"
      },
      "source": [
        "## Conclusion"
      ]
    },
    {
      "cell_type": "markdown",
      "metadata": {
        "id": "b1m0JuOtkhmi"
      },
      "source": [
        "That is it for today! Tomorrow we will cover another concept, word2vec, also known as word embeddings. "
      ]
    },
    {
      "cell_type": "code",
      "metadata": {
        "id": "n5pFLZoNjzzL"
      },
      "source": [
        ""
      ],
      "execution_count": null,
      "outputs": []
    }
  ]
}